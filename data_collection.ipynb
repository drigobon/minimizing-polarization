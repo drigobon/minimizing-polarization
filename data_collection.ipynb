{
 "cells": [
  {
   "cell_type": "code",
   "execution_count": 1,
   "metadata": {},
   "outputs": [],
   "source": [
    "import sys\n",
    "import pandas as pd\n",
    "import numpy as np\n",
    "import networkx as nx\n",
    "import matplotlib\n",
    "import matplotlib.pyplot as plt\n",
    "import scipy.io\n",
    "import itertools\n",
    "from ast import literal_eval\n",
    "%matplotlib inline\n",
    "\n",
    "from utils import *"
   ]
  },
  {
   "cell_type": "code",
   "execution_count": null,
   "metadata": {},
   "outputs": [],
   "source": []
  },
  {
   "cell_type": "markdown",
   "metadata": {},
   "source": [
    "# Reddit "
   ]
  },
  {
   "cell_type": "code",
   "execution_count": 13,
   "metadata": {},
   "outputs": [],
   "source": [
    "(n_rd, s_rd, A_rd, G_rd, L_rd) = load_reddit()\n",
    "\n",
    "k = int(0.1*len(G_rd.edges()))"
   ]
  },
  {
   "cell_type": "code",
   "execution_count": 15,
   "metadata": {},
   "outputs": [
    {
     "name": "stdout",
     "output_type": "stream",
     "text": [
      "opt_max_dis\n",
      "opt_max_grad\n",
      "opt_max_fiedler_diff\n"
     ]
    }
   ],
   "source": [
    "df = test_heuristics(G_rd, s_rd, k, bounds = True)\n",
    "\n",
    "df.to_csv('data/out/raw/rd.csv')    "
   ]
  },
  {
   "cell_type": "code",
   "execution_count": null,
   "metadata": {},
   "outputs": [],
   "source": []
  },
  {
   "cell_type": "markdown",
   "metadata": {},
   "source": [
    "# Twitter Network"
   ]
  },
  {
   "cell_type": "code",
   "execution_count": 9,
   "metadata": {},
   "outputs": [],
   "source": [
    "(n_tw, s_tw, A_tw, G_tw, L_tw) = load_twitter()\n",
    "\n",
    "k = int(0.1*len(G_tw.edges()))"
   ]
  },
  {
   "cell_type": "code",
   "execution_count": 11,
   "metadata": {},
   "outputs": [
    {
     "name": "stdout",
     "output_type": "stream",
     "text": [
      "opt_max_dis\n",
      "opt_max_grad\n",
      "opt_max_fiedler_diff\n"
     ]
    }
   ],
   "source": [
    "df = test_heuristics(G_tw, s_tw, k, bounds = True)\n",
    "\n",
    "df.to_csv('data/out/raw/tw.csv')    "
   ]
  },
  {
   "cell_type": "code",
   "execution_count": null,
   "metadata": {},
   "outputs": [],
   "source": []
  },
  {
   "cell_type": "markdown",
   "metadata": {},
   "source": [
    "# Erdos-Renyi"
   ]
  },
  {
   "cell_type": "code",
   "execution_count": 6,
   "metadata": {},
   "outputs": [],
   "source": [
    "n = 500\n",
    "p = 0.15 \n",
    "\n",
    "G_er = make_erdos_renyi(n,p, weighted = False)\n",
    "s_er = np.random.uniform(size = (n,1))\n",
    "\n",
    "k = int(0.1*len(G_er.edges()))"
   ]
  },
  {
   "cell_type": "code",
   "execution_count": null,
   "metadata": {},
   "outputs": [],
   "source": [
    "df = test_heuristics(G_er,s_er,k)\n",
    "\n",
    "\n",
    "df_test = df.copy()\n",
    "\n",
    "for i in range(len(df_test)):\n",
    "    df_test.at[i,'pol_vec'] =  df_test.at[i,'pol_vec'].tolist()\n",
    "\n",
    "df_test.to_csv('data/out/raw/er.csv')"
   ]
  },
  {
   "cell_type": "code",
   "execution_count": null,
   "metadata": {},
   "outputs": [],
   "source": []
  },
  {
   "cell_type": "markdown",
   "metadata": {},
   "source": [
    "# SBM"
   ]
  },
  {
   "cell_type": "code",
   "execution_count": 9,
   "metadata": {},
   "outputs": [],
   "source": [
    "n = 500\n",
    "p1 = 0.7\n",
    "p2 = 0.1\n",
    "\n",
    "a = 5\n",
    "b = 1\n",
    "\n",
    "(c1,c2,G_sbm) = make_block(n, p1, p2, weighted = False)\n",
    "s_sbm = make_beta_opinions(a, b, n, c1, c2)\n",
    "\n",
    "k = int(0.1*len(G_sbm.edges()))"
   ]
  },
  {
   "cell_type": "code",
   "execution_count": 11,
   "metadata": {},
   "outputs": [
    {
     "name": "stdout",
     "output_type": "stream",
     "text": [
      "opt_max_dis\n",
      "opt_max_grad\n",
      "opt_max_fiedler_diff\n"
     ]
    }
   ],
   "source": [
    "df = test_heuristics(G_sbm,s_sbm,k)\n",
    "\n",
    "\n",
    "df_test = df.copy()\n",
    "\n",
    "for i in range(len(df_test)):\n",
    "    df_test.at[i,'pol_vec'] =  df_test.at[i,'pol_vec'].tolist()\n",
    "\n",
    "df_test.to_csv('data/out/raw/sbm.csv')"
   ]
  },
  {
   "cell_type": "code",
   "execution_count": null,
   "metadata": {},
   "outputs": [],
   "source": []
  },
  {
   "cell_type": "markdown",
   "metadata": {},
   "source": [
    "# PA"
   ]
  },
  {
   "cell_type": "code",
   "execution_count": 13,
   "metadata": {},
   "outputs": [],
   "source": [
    "n = 500\n",
    "n0 = 2\n",
    "d0 = 1\n",
    "m = 5\n",
    "\n",
    "np.random.seed(0)\n",
    "G_0 = make_erdos_renyi(n0, d0, weighted = False)\n",
    "G_pa = make_pref_attach(n, G_0, m = m, weighted = False)\n",
    "s_pa = np.random.uniform(size = (n, 1))\n",
    "\n",
    "k = int(0.1*len(G_pa.edges()))"
   ]
  },
  {
   "cell_type": "code",
   "execution_count": 15,
   "metadata": {},
   "outputs": [
    {
     "name": "stdout",
     "output_type": "stream",
     "text": [
      "opt_max_dis\n",
      "opt_max_grad\n",
      "opt_max_fiedler_diff\n"
     ]
    }
   ],
   "source": [
    "df = test_heuristics(G_pa,s_pa,k)\n",
    "\n",
    "\n",
    "df_test = df.copy()\n",
    "\n",
    "for i in range(len(df_test)):\n",
    "    df_test.at[i,'pol_vec'] =  df_test.at[i,'pol_vec'].tolist()\n",
    "\n",
    "df_test.to_csv('data/out/raw/pa.csv')"
   ]
  },
  {
   "cell_type": "code",
   "execution_count": null,
   "metadata": {},
   "outputs": [],
   "source": []
  }
 ],
 "metadata": {
  "kernelspec": {
   "display_name": "Python 3",
   "language": "python",
   "name": "python3"
  },
  "language_info": {
   "codemirror_mode": {
    "name": "ipython",
    "version": 3
   },
   "file_extension": ".py",
   "mimetype": "text/x-python",
   "name": "python",
   "nbconvert_exporter": "python",
   "pygments_lexer": "ipython3",
   "version": "3.7.4"
  }
 },
 "nbformat": 4,
 "nbformat_minor": 2
}
